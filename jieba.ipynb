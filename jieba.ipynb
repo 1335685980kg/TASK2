{
 "cells": [
  {
   "cell_type": "code",
   "execution_count": 3,
   "metadata": {},
   "outputs": [
    {
     "name": "stderr",
     "output_type": "stream",
     "text": [
      "Building prefix dict from the default dictionary ...\n",
      "Loading model from cache C:\\Users\\KAI\\AppData\\Local\\Temp\\jieba.cache\n",
      "Loading model cost 0.646 seconds.\n",
      "Prefix dict has been built succesfully.\n"
     ]
    },
    {
     "name": "stdout",
     "output_type": "stream",
     "text": [
      "Full Model:我/来到/北京/清华/清华大学/华大/大学\n",
      "Default Model:我/来到/北京/清华大学\n",
      "他,来到,了,网易,杭研,大厦\n",
      "小明,硕士,毕业,于,中国,科学,学院,科学院,中国科学院,计算,计算所,，,后,在,日本,京都,大学,日本京都大学,深造\n"
     ]
    }
   ],
   "source": [
    "import jieba\n",
    "seg_list=jieba.cut('我来到北京清华大学',cut_all=True) \n",
    "print('Full Model:'+'/'.join(seg_list))  #全模式\n",
    "\n",
    "seg_list=jieba.cut('我来到北京清华大学',cut_all=False) \n",
    "print('Default Model:'+'/'.join(seg_list))  #精确模式\n",
    "\n",
    "seg_list=jieba.cut('他来到了网易杭研大厦')  #默认精确模式\n",
    "print(','.join(seg_list))\n",
    "\n",
    "seg_list=jieba.cut_for_search('小明硕士毕业于中国科学院计算所，后在日本京都大学深造')#搜索引擎模式\n",
    "print(','.join(seg_list))"
   ]
  },
  {
   "cell_type": "markdown",
   "metadata": {},
   "source": [
    "## 去停用词，词频估计 "
   ]
  },
  {
   "cell_type": "code",
   "execution_count": 40,
   "metadata": {},
   "outputs": [
    {
     "name": "stdout",
     "output_type": "stream",
     "text": [
      "常用词频度统计结果\n",
      "基金 9828\n",
      "一个 4856\n",
      "市场 4436\n",
      "中国 3948\n",
      "the 3124\n",
      "企业 2530\n",
      "时间 2502\n",
      "考试 2419\n",
      "产品 2416\n",
      "投资 2288\n",
      "发展 2286\n",
      "北京 2099\n",
      "10 2059\n",
      "活动 2058\n",
      "行业 2050\n",
      "to 2000\n",
      "玩家 1822\n",
      "设计 1742\n",
      "经济 1698\n",
      "of 1651\n"
     ]
    }
   ],
   "source": [
    "from collections import Counter\n",
    "import pandas as pd\n",
    "stopword = [line.strip() for line in open ('stop_words.txt','r',encoding='utf-8').readlines()]\n",
    "words=''\n",
    "with open('cnews.val.txt','r',encoding = 'utf8') as f:\n",
    "    for line in f.readlines():\n",
    "        line=line.strip()\n",
    "        word = jieba.cut(line)\n",
    "        words+=(' '.join(word))\n",
    "all_words=words.split()\n",
    "#print(all_words)\n",
    "c = Counter()\n",
    "for x in all_words:#进行词频统计\n",
    "    if x not in stopword:\n",
    "        if len(x)>1 and x != '\\r\\n':\n",
    "            c[x] += 1\n",
    "print('常用词频度统计结果')\n",
    "for (k,v) in c.most_common(20):     #遍历输出高频词\n",
    "    print(k,v)\n",
    " \n",
    "\n"
   ]
  },
  {
   "cell_type": "markdown",
   "metadata": {},
   "source": [
    "## TextRank 算法的关键词抽取 "
   ]
  },
  {
   "cell_type": "code",
   "execution_count": 46,
   "metadata": {},
   "outputs": [
    {
     "name": "stdout",
     "output_type": "stream",
     "text": [
      "欧亚 0.7300142700289363\n",
      "吉林 0.659038184373617\n",
      "置业 0.4887134522112766\n",
      "万元 0.3392722481859574\n",
      "增资 0.33582401985234045\n",
      "4.3 0.25435675538085106\n",
      "7000 0.25435675538085106\n",
      "2013 0.25435675538085106\n",
      "139.13 0.25435675538085106\n",
      "实现 0.19900979900382978\n",
      "综合体 0.19480309624702127\n",
      "经营范围 0.19389757253595744\n",
      "亿元 0.1914421623587234\n",
      "在建 0.17541884768425534\n",
      "全资 0.17180164988510638\n",
      "注册资本 0.1712441526\n",
      "百货 0.16734460041382979\n",
      "零售 0.1475057117057447\n",
      "子公司 0.14596045237787234\n",
      "营业 0.13920178509021275\n",
      "此外 c\n",
      "， x\n",
      "公司 n\n",
      "拟 v\n",
      "对 p\n",
      "全资 n\n",
      "子公司 n\n",
      "吉林 ns\n",
      "欧亚 ns\n",
      "置业 n\n",
      "有限公司 n\n",
      "增资 v\n",
      "4.3 m\n",
      "亿元 m\n",
      "， x\n",
      "增资 v\n",
      "后 f\n",
      "， x\n",
      "吉林 ns\n",
      "欧亚 ns\n",
      "置业 n\n",
      "注册资本 n\n",
      "由 c\n",
      "7000 m\n",
      "万元 m\n",
      "增加 v\n",
      "到 v\n",
      "5 m\n",
      "亿元 m\n",
      "。 x\n",
      "吉林 ns\n",
      "欧亚 ns\n",
      "置业 n\n",
      "主要 b\n",
      "经营范围 n\n",
      "为 p\n",
      "房地产 j\n",
      "开发 v\n",
      "及 c\n",
      "百货 n\n",
      "零售 vn\n",
      "等 u\n",
      "业务 n\n",
      "。 x\n",
      "目前 t\n",
      "在建 v\n",
      "吉林 ns\n",
      "欧亚 ns\n",
      "城市 ns\n",
      "商业 n\n",
      "综合体 n\n",
      "项目 n\n",
      "。 x\n",
      "2013 m\n",
      "年 m\n",
      "， x\n",
      "实现 v\n",
      "营业 n\n",
      "收入 v\n",
      "0 x\n",
      "万元 m\n",
      "， x\n",
      "实现 v\n",
      "净利润 n\n",
      "- x\n",
      "139.13 m\n",
      "万元 m\n",
      "。 x\n"
     ]
    }
   ],
   "source": [
    "import jieba\n",
    "import jieba.posseg as pseg\n",
    "import jieba.analyse\n",
    "s = \"此外，公司拟对全资子公司吉林欧亚置业有限公司增资4.3亿元，增资后，吉林欧亚置业注册资本由7000万元增加到5亿元。吉林欧亚置业主要经营范围为房地产开发及百货零售等业务。目前在建吉林欧亚城市商业综合体项目。2013年，实现营业收入0万元，实现净利润-139.13万元。\"\n",
    "for x, w in jieba.analyse.extract_tags(s, withWeight=True):\n",
    "    print('%s %s' % (x, w))\n",
    "y=pseg.cut(s)\n",
    "for word, flag in y:\n",
    "    print('%s %s' % (word, flag))\n"
   ]
  },
  {
   "cell_type": "markdown",
   "metadata": {},
   "source": [
    "## Tokenize：返回词语在原文的起止位置 "
   ]
  },
  {
   "cell_type": "code",
   "execution_count": 47,
   "metadata": {},
   "outputs": [
    {
     "name": "stdout",
     "output_type": "stream",
     "text": [
      "word 永和\t\t start: 0 \t\t end:2\n",
      "word 服装\t\t start: 2 \t\t end:4\n",
      "word 饰品\t\t start: 4 \t\t end:6\n",
      "word 有限公司\t\t start: 6 \t\t end:10\n"
     ]
    }
   ],
   "source": [
    "result = jieba.tokenize(u'永和服装饰品有限公司')\n",
    "for tk in result:\n",
    "    print(\"word %s\\t\\t start: %d \\t\\t end:%d\" % (tk[0],tk[1],tk[2]))"
   ]
  },
  {
   "cell_type": "code",
   "execution_count": null,
   "metadata": {},
   "outputs": [],
   "source": []
  }
 ],
 "metadata": {
  "kernelspec": {
   "display_name": "Python 3",
   "language": "python",
   "name": "python3"
  },
  "language_info": {
   "codemirror_mode": {
    "name": "ipython",
    "version": 3
   },
   "file_extension": ".py",
   "mimetype": "text/x-python",
   "name": "python",
   "nbconvert_exporter": "python",
   "pygments_lexer": "ipython3",
   "version": "3.6.7"
  }
 },
 "nbformat": 4,
 "nbformat_minor": 2
}
